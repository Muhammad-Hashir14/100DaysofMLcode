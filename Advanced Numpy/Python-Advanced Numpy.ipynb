{
 "cells": [
  {
   "cell_type": "code",
   "execution_count": 1,
   "id": "22035115",
   "metadata": {},
   "outputs": [],
   "source": [
    "import numpy as np\n",
    "import pandas as pd\n",
    "import matplotlib as mlp\n",
    "import matplotlib.pyplot as plt\n",
    "import seaborn as sns"
   ]
  },
  {
   "cell_type": "code",
   "execution_count": 2,
   "id": "4b9d0dcb",
   "metadata": {},
   "outputs": [],
   "source": [
    "gene0 = [100, 200, 50, 400]\n",
    "gene1 = [50, 0, 0, 100]\n",
    "gene2 = [350, 100, 50, 200]"
   ]
  },
  {
   "cell_type": "code",
   "execution_count": 3,
   "id": "432ea13e",
   "metadata": {},
   "outputs": [],
   "source": [
    "data = [gene0, gene1, gene2]"
   ]
  },
  {
   "cell_type": "code",
   "execution_count": 4,
   "id": "e1cff88e",
   "metadata": {},
   "outputs": [
    {
     "data": {
      "text/plain": [
       "[[100, 200, 50, 400], [50, 0, 0, 100], [350, 100, 50, 200]]"
      ]
     },
     "execution_count": 4,
     "metadata": {},
     "output_type": "execute_result"
    }
   ],
   "source": [
    "data"
   ]
  },
  {
   "cell_type": "code",
   "execution_count": 5,
   "id": "f2cfce03",
   "metadata": {},
   "outputs": [],
   "source": [
    "data = np.array(data)"
   ]
  },
  {
   "cell_type": "code",
   "execution_count": 6,
   "id": "ef8790c3",
   "metadata": {},
   "outputs": [
    {
     "data": {
      "text/plain": [
       "array([[100, 200,  50, 400],\n",
       "       [ 50,   0,   0, 100],\n",
       "       [350, 100,  50, 200]])"
      ]
     },
     "execution_count": 6,
     "metadata": {},
     "output_type": "execute_result"
    }
   ],
   "source": [
    "data"
   ]
  },
  {
   "cell_type": "code",
   "execution_count": 7,
   "id": "7ebfa1a1",
   "metadata": {},
   "outputs": [],
   "source": [
    "def data_info(a):\n",
    "    print(\"Number of Elements in data :\", a.size)\n",
    "    print(\"Number of dimension in data :\", a.ndim)\n",
    "    print(\"shape of data :\",a.shape)\n",
    "    print(\"datatype of dataset :\", a.dtype)\n",
    "    print(\"Strides :\",a.strides)\n",
    "    print(\"Flags :\", a.flags)"
   ]
  },
  {
   "cell_type": "code",
   "execution_count": 8,
   "id": "1062d627",
   "metadata": {},
   "outputs": [
    {
     "name": "stdout",
     "output_type": "stream",
     "text": [
      "Number of Elements in data : 12\n",
      "Number of dimension in data : 2\n",
      "shape of data : (3, 4)\n",
      "datatype of dataset : int32\n",
      "Strides : (16, 4)\n",
      "Flags :   C_CONTIGUOUS : True\n",
      "  F_CONTIGUOUS : False\n",
      "  OWNDATA : True\n",
      "  WRITEABLE : True\n",
      "  ALIGNED : True\n",
      "  WRITEBACKIFCOPY : False\n",
      "  UPDATEIFCOPY : False\n",
      "\n"
     ]
    }
   ],
   "source": [
    "data_info(data)"
   ]
  },
  {
   "cell_type": "code",
   "execution_count": 9,
   "id": "4e8099dc",
   "metadata": {},
   "outputs": [
    {
     "name": "stdout",
     "output_type": "stream",
     "text": [
      "[100 200  50 400  50   0   0 100 350 100  50 200]\n"
     ]
    }
   ],
   "source": [
    "print(data.ravel())"
   ]
  },
  {
   "cell_type": "code",
   "execution_count": 10,
   "id": "ab075850",
   "metadata": {},
   "outputs": [
    {
     "name": "stdout",
     "output_type": "stream",
     "text": [
      "(12,)\n"
     ]
    }
   ],
   "source": [
    "print(data.ravel().shape)"
   ]
  },
  {
   "cell_type": "code",
   "execution_count": 11,
   "id": "6f2495d7",
   "metadata": {},
   "outputs": [],
   "source": [
    "databyte = data.ravel().view(dtype = np.uint8)"
   ]
  },
  {
   "cell_type": "code",
   "execution_count": 12,
   "id": "28484368",
   "metadata": {},
   "outputs": [
    {
     "name": "stdout",
     "output_type": "stream",
     "text": [
      "[100   0   0   0 200   0   0   0  50   0   0   0 144   1   0   0  50   0\n",
      "   0   0   0   0   0   0]\n"
     ]
    }
   ],
   "source": [
    "print(databyte[:24])"
   ]
  },
  {
   "cell_type": "code",
   "execution_count": 13,
   "id": "de71dc40",
   "metadata": {},
   "outputs": [
    {
     "data": {
      "text/plain": [
       "356"
      ]
     },
     "execution_count": 13,
     "metadata": {},
     "output_type": "execute_result"
    }
   ],
   "source": [
    "databyte[1] = 1\n",
    "data.ravel()[0]"
   ]
  },
  {
   "cell_type": "code",
   "execution_count": 14,
   "id": "8ed92148",
   "metadata": {},
   "outputs": [
    {
     "name": "stdout",
     "output_type": "stream",
     "text": [
      "Number of Elements in data : 12\n",
      "Number of dimension in data : 2\n",
      "shape of data : (3, 4)\n",
      "datatype of dataset : int32\n",
      "Strides : (16, 4)\n",
      "Flags :   C_CONTIGUOUS : True\n",
      "  F_CONTIGUOUS : False\n",
      "  OWNDATA : True\n",
      "  WRITEABLE : True\n",
      "  ALIGNED : True\n",
      "  WRITEBACKIFCOPY : False\n",
      "  UPDATEIFCOPY : False\n",
      "\n"
     ]
    }
   ],
   "source": [
    "data_info(data)"
   ]
  },
  {
   "cell_type": "code",
   "execution_count": 15,
   "id": "60f9dda6",
   "metadata": {},
   "outputs": [
    {
     "name": "stdout",
     "output_type": "stream",
     "text": [
      "Number of Elements in data : 12\n",
      "Number of dimension in data : 2\n",
      "shape of data : (4, 3)\n",
      "datatype of dataset : int32\n",
      "Strides : (4, 16)\n",
      "Flags :   C_CONTIGUOUS : False\n",
      "  F_CONTIGUOUS : True\n",
      "  OWNDATA : False\n",
      "  WRITEABLE : True\n",
      "  ALIGNED : True\n",
      "  WRITEBACKIFCOPY : False\n",
      "  UPDATEIFCOPY : False\n",
      "\n"
     ]
    }
   ],
   "source": [
    "data_info(data.T)"
   ]
  },
  {
   "cell_type": "code",
   "execution_count": 16,
   "id": "a539094a",
   "metadata": {},
   "outputs": [
    {
     "name": "stdout",
     "output_type": "stream",
     "text": [
      "[[356 200  50 400]\n",
      " [ 50   0   0 100]\n",
      " [350 100  50 200]]\n",
      "[[356  50 350]\n",
      " [ 50   0  50]]\n",
      "Number of Elements in data : 6\n",
      "Number of dimension in data : 2\n",
      "shape of data : (2, 3)\n",
      "datatype of dataset : int32\n",
      "Strides : (8, 16)\n",
      "Flags :   C_CONTIGUOUS : False\n",
      "  F_CONTIGUOUS : False\n",
      "  OWNDATA : False\n",
      "  WRITEABLE : True\n",
      "  ALIGNED : True\n",
      "  WRITEBACKIFCOPY : False\n",
      "  UPDATEIFCOPY : False\n",
      "\n"
     ]
    }
   ],
   "source": [
    "print(data)\n",
    "print(data.T[::2])\n",
    "data_info(data.T[::2])"
   ]
  },
  {
   "cell_type": "code",
   "execution_count": 17,
   "id": "c3bb262e",
   "metadata": {},
   "outputs": [
    {
     "name": "stdout",
     "output_type": "stream",
     "text": [
      "Number of Elements in data : 4\n",
      "Number of dimension in data : 2\n",
      "shape of data : (2, 2)\n",
      "datatype of dataset : int32\n",
      "Strides : (8, 32)\n",
      "Flags :   C_CONTIGUOUS : False\n",
      "  F_CONTIGUOUS : False\n",
      "  OWNDATA : False\n",
      "  WRITEABLE : True\n",
      "  ALIGNED : True\n",
      "  WRITEBACKIFCOPY : False\n",
      "  UPDATEIFCOPY : False\n",
      "\n"
     ]
    }
   ],
   "source": [
    "data_info(data.T[::2,::2])"
   ]
  },
  {
   "cell_type": "code",
   "execution_count": 18,
   "id": "d485bc9b",
   "metadata": {},
   "outputs": [
    {
     "data": {
      "text/plain": [
       "array([[356, 200,  50, 400],\n",
       "       [ 50,   0,   0, 100],\n",
       "       [350, 100,  50, 800]])"
      ]
     },
     "execution_count": 18,
     "metadata": {},
     "output_type": "execute_result"
    }
   ],
   "source": [
    "a = data\n",
    "data[2,3] = 800\n",
    "a"
   ]
  },
  {
   "cell_type": "code",
   "execution_count": 19,
   "id": "405cd5ae",
   "metadata": {},
   "outputs": [
    {
     "data": {
      "text/plain": [
       "array([[356, 200,  50, 400],\n",
       "       [ 50,   0,   0, 100],\n",
       "       [350, 100,  50, 800]])"
      ]
     },
     "execution_count": 19,
     "metadata": {},
     "output_type": "execute_result"
    }
   ],
   "source": [
    "a = data.copy()\n",
    "data[2,2] = 1000\n",
    "a"
   ]
  },
  {
   "cell_type": "code",
   "execution_count": 20,
   "id": "d19502b3",
   "metadata": {},
   "outputs": [],
   "source": [
    "expr = np.load('expr.npy')"
   ]
  },
  {
   "cell_type": "code",
   "execution_count": 21,
   "id": "2014244d",
   "metadata": {},
   "outputs": [
    {
     "data": {
      "text/plain": [
       "array([[     0,      0,      0, ...,      0,     18,      0],\n",
       "       [    12,      1,      0, ...,      2,      3,      4],\n",
       "       [ 64134,  52319,  48016, ...,  80938, 105589,  92008],\n",
       "       ...,\n",
       "       [   401,   2518,   1511, ...,   2260,   3574,   3936],\n",
       "       [   458,   2164,    540, ...,    977,   1302,    681],\n",
       "       [     0,      0,      0, ...,     10,      0,      0]],\n",
       "      dtype=uint32)"
      ]
     },
     "execution_count": 21,
     "metadata": {},
     "output_type": "execute_result"
    }
   ],
   "source": [
    "expr"
   ]
  },
  {
   "cell_type": "code",
   "execution_count": 22,
   "id": "f3fb394e",
   "metadata": {},
   "outputs": [
    {
     "name": "stdout",
     "output_type": "stream",
     "text": [
      "Number of Elements in data : 7687500\n",
      "Number of dimension in data : 2\n",
      "shape of data : (20500, 375)\n",
      "datatype of dataset : uint32\n",
      "Strides : (4, 82000)\n",
      "Flags :   C_CONTIGUOUS : False\n",
      "  F_CONTIGUOUS : True\n",
      "  OWNDATA : False\n",
      "  WRITEABLE : True\n",
      "  ALIGNED : True\n",
      "  WRITEBACKIFCOPY : False\n",
      "  UPDATEIFCOPY : False\n",
      "\n"
     ]
    }
   ],
   "source": [
    "data_info(expr)"
   ]
  },
  {
   "cell_type": "code",
   "execution_count": 23,
   "id": "3ff3c8fb",
   "metadata": {},
   "outputs": [
    {
     "data": {
      "text/plain": [
       "2693351568"
      ]
     },
     "execution_count": 23,
     "metadata": {},
     "output_type": "execute_result"
    }
   ],
   "source": [
    "size = np.sum(expr)\n",
    "size"
   ]
  },
  {
   "cell_type": "code",
   "execution_count": 24,
   "id": "bc8eecfb",
   "metadata": {},
   "outputs": [
    {
     "data": {
      "text/plain": [
       "(375,)"
      ]
     },
     "execution_count": 24,
     "metadata": {},
     "output_type": "execute_result"
    }
   ],
   "source": [
    "size = np.sum(expr, axis = 0)\n",
    "size.shape"
   ]
  },
  {
   "cell_type": "code",
   "execution_count": 25,
   "id": "63a53320",
   "metadata": {},
   "outputs": [
    {
     "data": {
      "text/plain": [
       "(20500,)"
      ]
     },
     "execution_count": 25,
     "metadata": {},
     "output_type": "execute_result"
    }
   ],
   "source": [
    "np.sum(expr, axis = 1).shape"
   ]
  },
  {
   "cell_type": "markdown",
   "id": "952cc929",
   "metadata": {},
   "source": [
    "### Exercise\n",
    "\n",
    "Generate a 10 x 3 array of random numbers. From each row, pick the column containing the number closest to 0.75.\n",
    "\n",
    "*Hint:* use of `np.abs` and `np.argmin` to find the column j that contains the closest element in each row i. The final result should be a vector of integers of shape (10,)."
   ]
  },
  {
   "cell_type": "code",
   "execution_count": 26,
   "id": "32ff5916",
   "metadata": {},
   "outputs": [
    {
     "data": {
      "text/plain": [
       "array([[7.65711205e-01, 9.64507890e-01, 2.61144307e-01],\n",
       "       [2.43689084e-01, 6.59534811e-04, 7.44417504e-01],\n",
       "       [1.24442590e-01, 2.45996339e-01, 5.49711765e-01],\n",
       "       [5.58439703e-03, 1.76222414e-01, 5.42592036e-01],\n",
       "       [8.69730734e-01, 9.72756061e-01, 7.16449238e-01],\n",
       "       [8.51066642e-01, 8.33391655e-01, 4.22820390e-01],\n",
       "       [6.01391908e-01, 2.00161621e-01, 9.03815692e-01],\n",
       "       [2.49167644e-01, 7.65043236e-01, 3.61859080e-01],\n",
       "       [5.56159525e-01, 5.12891857e-02, 3.59441372e-01],\n",
       "       [2.48597893e-01, 5.34034002e-03, 2.96565484e-01]])"
      ]
     },
     "execution_count": 26,
     "metadata": {},
     "output_type": "execute_result"
    }
   ],
   "source": [
    "dat = np.random.random((10,3))\n",
    "dat"
   ]
  },
  {
   "cell_type": "code",
   "execution_count": 27,
   "id": "849d712f",
   "metadata": {},
   "outputs": [],
   "source": [
    "dis75 = np.abs(dat - 0.75)"
   ]
  },
  {
   "cell_type": "code",
   "execution_count": 28,
   "id": "63c7ee33",
   "metadata": {},
   "outputs": [],
   "source": [
    "closest = np.argmin(dis75, axis = 1)"
   ]
  },
  {
   "cell_type": "code",
   "execution_count": 29,
   "id": "0684a6ba",
   "metadata": {},
   "outputs": [
    {
     "data": {
      "text/plain": [
       "array([[7.65711205e-01, 2.61144307e-01, 2.61144307e-01, 2.61144307e-01,\n",
       "        2.61144307e-01, 9.64507890e-01, 7.65711205e-01, 9.64507890e-01,\n",
       "        7.65711205e-01, 2.61144307e-01],\n",
       "       [2.43689084e-01, 7.44417504e-01, 7.44417504e-01, 7.44417504e-01,\n",
       "        7.44417504e-01, 6.59534811e-04, 2.43689084e-01, 6.59534811e-04,\n",
       "        2.43689084e-01, 7.44417504e-01],\n",
       "       [1.24442590e-01, 5.49711765e-01, 5.49711765e-01, 5.49711765e-01,\n",
       "        5.49711765e-01, 2.45996339e-01, 1.24442590e-01, 2.45996339e-01,\n",
       "        1.24442590e-01, 5.49711765e-01],\n",
       "       [5.58439703e-03, 5.42592036e-01, 5.42592036e-01, 5.42592036e-01,\n",
       "        5.42592036e-01, 1.76222414e-01, 5.58439703e-03, 1.76222414e-01,\n",
       "        5.58439703e-03, 5.42592036e-01],\n",
       "       [8.69730734e-01, 7.16449238e-01, 7.16449238e-01, 7.16449238e-01,\n",
       "        7.16449238e-01, 9.72756061e-01, 8.69730734e-01, 9.72756061e-01,\n",
       "        8.69730734e-01, 7.16449238e-01],\n",
       "       [8.51066642e-01, 4.22820390e-01, 4.22820390e-01, 4.22820390e-01,\n",
       "        4.22820390e-01, 8.33391655e-01, 8.51066642e-01, 8.33391655e-01,\n",
       "        8.51066642e-01, 4.22820390e-01],\n",
       "       [6.01391908e-01, 9.03815692e-01, 9.03815692e-01, 9.03815692e-01,\n",
       "        9.03815692e-01, 2.00161621e-01, 6.01391908e-01, 2.00161621e-01,\n",
       "        6.01391908e-01, 9.03815692e-01],\n",
       "       [2.49167644e-01, 3.61859080e-01, 3.61859080e-01, 3.61859080e-01,\n",
       "        3.61859080e-01, 7.65043236e-01, 2.49167644e-01, 7.65043236e-01,\n",
       "        2.49167644e-01, 3.61859080e-01],\n",
       "       [5.56159525e-01, 3.59441372e-01, 3.59441372e-01, 3.59441372e-01,\n",
       "        3.59441372e-01, 5.12891857e-02, 5.56159525e-01, 5.12891857e-02,\n",
       "        5.56159525e-01, 3.59441372e-01],\n",
       "       [2.48597893e-01, 2.96565484e-01, 2.96565484e-01, 2.96565484e-01,\n",
       "        2.96565484e-01, 5.34034002e-03, 2.48597893e-01, 5.34034002e-03,\n",
       "        2.48597893e-01, 2.96565484e-01]])"
      ]
     },
     "execution_count": 29,
     "metadata": {},
     "output_type": "execute_result"
    }
   ],
   "source": [
    "dat[:,closest]"
   ]
  },
  {
   "cell_type": "code",
   "execution_count": 30,
   "id": "24645432",
   "metadata": {},
   "outputs": [],
   "source": [
    "colsest = dat[np.arange(dat.shape[0]), closest]"
   ]
  },
  {
   "cell_type": "code",
   "execution_count": 31,
   "id": "0cd83591",
   "metadata": {},
   "outputs": [
    {
     "data": {
      "text/plain": [
       "array([0.76571121, 0.7444175 , 0.54971176, 0.54259204, 0.71644924,\n",
       "       0.83339166, 0.60139191, 0.76504324, 0.55615952, 0.29656548])"
      ]
     },
     "execution_count": 31,
     "metadata": {},
     "output_type": "execute_result"
    }
   ],
   "source": [
    "colsest"
   ]
  },
  {
   "cell_type": "markdown",
   "id": "e863896b",
   "metadata": {},
   "source": [
    "### Exercise\n",
    "\n",
    "Some applications, such as clustering, are computationally expensive, and wouldn't work without first doing some form of *feature selection*, where we discard most of the data and keep only what we think will be most useful. One simple version is to keep only the genes with the most variance (as these will be more informative than genes that don't vary between patients).\n",
    "\n",
    "- Find the variance across patients of all the genes (rows) in the expression dataset.\n",
    "- Use `np.argsort` to find the location of the 1,500 most variable genes.\n",
    "- Use these indices to produce a shape (1500, 375) matrix containing only the most variable genes."
   ]
  },
  {
   "cell_type": "code",
   "execution_count": 32,
   "id": "e3b8b676",
   "metadata": {},
   "outputs": [
    {
     "data": {
      "text/plain": [
       "array([[7.65711205e-01, 9.64507890e-01, 2.61144307e-01],\n",
       "       [2.43689084e-01, 6.59534811e-04, 7.44417504e-01],\n",
       "       [1.24442590e-01, 2.45996339e-01, 5.49711765e-01],\n",
       "       [5.58439703e-03, 1.76222414e-01, 5.42592036e-01],\n",
       "       [8.69730734e-01, 9.72756061e-01, 7.16449238e-01],\n",
       "       [8.51066642e-01, 8.33391655e-01, 4.22820390e-01],\n",
       "       [6.01391908e-01, 2.00161621e-01, 9.03815692e-01],\n",
       "       [2.49167644e-01, 7.65043236e-01, 3.61859080e-01],\n",
       "       [5.56159525e-01, 5.12891857e-02, 3.59441372e-01],\n",
       "       [2.48597893e-01, 5.34034002e-03, 2.96565484e-01]])"
      ]
     },
     "execution_count": 32,
     "metadata": {},
     "output_type": "execute_result"
    }
   ],
   "source": [
    "dat"
   ]
  },
  {
   "cell_type": "code",
   "execution_count": 33,
   "id": "b70b6daf",
   "metadata": {},
   "outputs": [
    {
     "data": {
      "text/plain": [
       "array([[     0,      0,      0, ...,      0,     18,      0],\n",
       "       [    12,      1,      0, ...,      2,      3,      4],\n",
       "       [ 64134,  52319,  48016, ...,  80938, 105589,  92008],\n",
       "       ...,\n",
       "       [   401,   2518,   1511, ...,   2260,   3574,   3936],\n",
       "       [   458,   2164,    540, ...,    977,   1302,    681],\n",
       "       [     0,      0,      0, ...,     10,      0,      0]],\n",
       "      dtype=uint32)"
      ]
     },
     "execution_count": 33,
     "metadata": {},
     "output_type": "execute_result"
    }
   ],
   "source": [
    "expr"
   ]
  },
  {
   "cell_type": "code",
   "execution_count": 34,
   "id": "02ee247c",
   "metadata": {},
   "outputs": [
    {
     "data": {
      "text/plain": [
       "(20500, 375)"
      ]
     },
     "execution_count": 34,
     "metadata": {},
     "output_type": "execute_result"
    }
   ],
   "source": [
    "expr.shape"
   ]
  },
  {
   "cell_type": "code",
   "execution_count": 35,
   "id": "bca04bc1",
   "metadata": {},
   "outputs": [],
   "source": [
    "var_shape = np.var(expr, axis = 1)"
   ]
  },
  {
   "cell_type": "code",
   "execution_count": 36,
   "id": "bccdb20c",
   "metadata": {},
   "outputs": [
    {
     "data": {
      "text/plain": [
       "(20500,)"
      ]
     },
     "execution_count": 36,
     "metadata": {},
     "output_type": "execute_result"
    }
   ],
   "source": [
    "var_shape.shape"
   ]
  },
  {
   "cell_type": "code",
   "execution_count": 37,
   "id": "2ec5b7ff",
   "metadata": {},
   "outputs": [
    {
     "name": "stdout",
     "output_type": "stream",
     "text": [
      "[0.00000000e+00 0.00000000e+00 0.00000000e+00 ... 4.35045100e+10\n",
      " 9.45670299e+10 3.11574872e+11]\n"
     ]
    }
   ],
   "source": [
    "sorted_variance = np.sort(var_shape)\n",
    "print(sorted_variance)"
   ]
  },
  {
   "cell_type": "code",
   "execution_count": 38,
   "id": "0c06076c",
   "metadata": {},
   "outputs": [
    {
     "name": "stdout",
     "output_type": "stream",
     "text": [
      "[14473  1800 17851 ... 14683 10080  7424]\n"
     ]
    }
   ],
   "source": [
    "sorted_variance_indexs = np.argsort(var_shape)\n",
    "print(sorted_variance_indexs)"
   ]
  },
  {
   "cell_type": "code",
   "execution_count": 39,
   "id": "2a85da24",
   "metadata": {},
   "outputs": [
    {
     "data": {
      "text/plain": [
       "(20500,)"
      ]
     },
     "execution_count": 39,
     "metadata": {},
     "output_type": "execute_result"
    }
   ],
   "source": [
    "sorted_variance_indexs.shape"
   ]
  },
  {
   "cell_type": "code",
   "execution_count": 40,
   "id": "e68033d2",
   "metadata": {},
   "outputs": [],
   "source": [
    "ind = sorted_variance_indexs[-1500:]"
   ]
  },
  {
   "cell_type": "code",
   "execution_count": 41,
   "id": "657dec26",
   "metadata": {},
   "outputs": [],
   "source": [
    "most_var_data = expr[ind]"
   ]
  },
  {
   "cell_type": "code",
   "execution_count": 42,
   "id": "cfe90d33",
   "metadata": {},
   "outputs": [
    {
     "data": {
      "text/plain": [
       "(1500, 375)"
      ]
     },
     "execution_count": 42,
     "metadata": {},
     "output_type": "execute_result"
    }
   ],
   "source": [
    "most_var_data.shape"
   ]
  },
  {
   "cell_type": "code",
   "execution_count": 43,
   "id": "953221d4",
   "metadata": {},
   "outputs": [
    {
     "data": {
      "text/plain": [
       "array([[ 356,  200,   50,  400],\n",
       "       [  50,    0,    0,  100],\n",
       "       [ 350,  100, 1000,  800]])"
      ]
     },
     "execution_count": 43,
     "metadata": {},
     "output_type": "execute_result"
    }
   ],
   "source": [
    "data"
   ]
  },
  {
   "cell_type": "code",
   "execution_count": 44,
   "id": "c550c892",
   "metadata": {},
   "outputs": [
    {
     "data": {
      "text/plain": [
       "array([[ 361,  205,   55,  405],\n",
       "       [  55,    5,    5,  105],\n",
       "       [ 355,  105, 1005,  805]])"
      ]
     },
     "execution_count": 44,
     "metadata": {},
     "output_type": "execute_result"
    }
   ],
   "source": [
    "data + 5"
   ]
  },
  {
   "cell_type": "code",
   "execution_count": 45,
   "id": "c253c07d",
   "metadata": {},
   "outputs": [],
   "source": [
    "b = np.array([1,2,3,4])"
   ]
  },
  {
   "cell_type": "code",
   "execution_count": 46,
   "id": "d0186e11",
   "metadata": {},
   "outputs": [
    {
     "data": {
      "text/plain": [
       "array([[ 357,  202,   53,  404],\n",
       "       [  51,    2,    3,  104],\n",
       "       [ 351,  102, 1003,  804]])"
      ]
     },
     "execution_count": 46,
     "metadata": {},
     "output_type": "execute_result"
    }
   ],
   "source": [
    "data + b"
   ]
  },
  {
   "cell_type": "code",
   "execution_count": 47,
   "id": "5fe67d0c",
   "metadata": {},
   "outputs": [],
   "source": [
    "b = np.array([[1], [2],[3]])"
   ]
  },
  {
   "cell_type": "code",
   "execution_count": 48,
   "id": "f81ae251",
   "metadata": {},
   "outputs": [
    {
     "data": {
      "text/plain": [
       "array([[ 357,  201,   51,  401],\n",
       "       [  52,    2,    2,  102],\n",
       "       [ 353,  103, 1003,  803]])"
      ]
     },
     "execution_count": 48,
     "metadata": {},
     "output_type": "execute_result"
    }
   ],
   "source": [
    "data + b"
   ]
  },
  {
   "cell_type": "code",
   "execution_count": 49,
   "id": "7f8ff0a5",
   "metadata": {},
   "outputs": [
    {
     "data": {
      "text/plain": [
       "(3, 1)"
      ]
     },
     "execution_count": 49,
     "metadata": {},
     "output_type": "execute_result"
    }
   ],
   "source": [
    "b.shape"
   ]
  },
  {
   "cell_type": "code",
   "execution_count": 50,
   "id": "76b9271e",
   "metadata": {},
   "outputs": [
    {
     "name": "stdout",
     "output_type": "stream",
     "text": [
      "(20500, 375)\n",
      "(10, 3)\n"
     ]
    }
   ],
   "source": [
    "print(expr.shape)\n",
    "print(dat.shape)"
   ]
  },
  {
   "cell_type": "code",
   "execution_count": 51,
   "id": "5f3f2d78",
   "metadata": {},
   "outputs": [
    {
     "name": "stdout",
     "output_type": "stream",
     "text": [
      "(1, 10, 3)\n"
     ]
    }
   ],
   "source": [
    "print(dat[np.newaxis, :].shape)"
   ]
  },
  {
   "cell_type": "code",
   "execution_count": 52,
   "id": "6ded96a6",
   "metadata": {},
   "outputs": [
    {
     "data": {
      "text/plain": [
       "False"
      ]
     },
     "execution_count": 52,
     "metadata": {},
     "output_type": "execute_result"
    }
   ],
   "source": [
    "np.all([True, False, True])"
   ]
  },
  {
   "cell_type": "code",
   "execution_count": 53,
   "id": "a4ffd0fc",
   "metadata": {},
   "outputs": [
    {
     "data": {
      "text/plain": [
       "True"
      ]
     },
     "execution_count": 53,
     "metadata": {},
     "output_type": "execute_result"
    }
   ],
   "source": [
    "np.all([True, True, True])"
   ]
  },
  {
   "cell_type": "code",
   "execution_count": 54,
   "id": "ad53fdba",
   "metadata": {},
   "outputs": [
    {
     "name": "stderr",
     "output_type": "stream",
     "text": [
      "C:\\Users\\hashi\\AppData\\Local\\Temp\\ipykernel_9848\\2519318178.py:1: RuntimeWarning: invalid value encountered in true_divide\n",
      "  np.all(expr / expr == expr / expr[np.newaxis, :])\n"
     ]
    },
    {
     "data": {
      "text/plain": [
       "False"
      ]
     },
     "execution_count": 54,
     "metadata": {},
     "output_type": "execute_result"
    }
   ],
   "source": [
    "np.all(expr / expr == expr / expr[np.newaxis, :])"
   ]
  },
  {
   "cell_type": "markdown",
   "id": "7d6d18ee",
   "metadata": {},
   "source": [
    "## Exercise: 3D broadcasting"
   ]
  },
  {
   "cell_type": "markdown",
   "id": "4c0b6d69",
   "metadata": {},
   "source": [
    "* Below, using broadcasting, produce the array containing the sum of every element in x with every element in y. That is, produce an array z such that z[i, j, k] contains either the sum of y[i] and x[j, k] OR the sum of x[i, j] and y[k]."
   ]
  },
  {
   "cell_type": "code",
   "execution_count": 57,
   "id": "ee5269f5",
   "metadata": {},
   "outputs": [],
   "source": [
    "x = np.random.random(size=(3, 5))\n",
    "y = np.random.randint(10, size=8)"
   ]
  },
  {
   "cell_type": "code",
   "execution_count": 58,
   "id": "4d10e461",
   "metadata": {},
   "outputs": [
    {
     "data": {
      "text/plain": [
       "array([[0.27046967, 0.76969309, 0.96738683, 0.76363707, 0.51367596],\n",
       "       [0.3479983 , 0.731912  , 0.7232532 , 0.10795182, 0.36996715],\n",
       "       [0.81206588, 0.36200877, 0.70241601, 0.75276322, 0.03861964]])"
      ]
     },
     "execution_count": 58,
     "metadata": {},
     "output_type": "execute_result"
    }
   ],
   "source": [
    "x"
   ]
  },
  {
   "cell_type": "code",
   "execution_count": 59,
   "id": "fd65f9c2",
   "metadata": {},
   "outputs": [
    {
     "data": {
      "text/plain": [
       "array([5, 7, 7, 0, 0, 8, 8, 8])"
      ]
     },
     "execution_count": 59,
     "metadata": {},
     "output_type": "execute_result"
    }
   ],
   "source": [
    "y"
   ]
  },
  {
   "cell_type": "code",
   "execution_count": 60,
   "id": "32c45d1c",
   "metadata": {},
   "outputs": [
    {
     "data": {
      "text/plain": [
       "(3, 5)"
      ]
     },
     "execution_count": 60,
     "metadata": {},
     "output_type": "execute_result"
    }
   ],
   "source": [
    "x.shape"
   ]
  },
  {
   "cell_type": "code",
   "execution_count": 64,
   "id": "16b4063a",
   "metadata": {},
   "outputs": [],
   "source": [
    "z = x + y[:, np.newaxis, np.newaxis]"
   ]
  },
  {
   "cell_type": "code",
   "execution_count": 65,
   "id": "f1d60d36",
   "metadata": {},
   "outputs": [
    {
     "data": {
      "text/plain": [
       "array([[[5.27046967, 5.76969309, 5.96738683, 5.76363707, 5.51367596],\n",
       "        [5.3479983 , 5.731912  , 5.7232532 , 5.10795182, 5.36996715],\n",
       "        [5.81206588, 5.36200877, 5.70241601, 5.75276322, 5.03861964]],\n",
       "\n",
       "       [[7.27046967, 7.76969309, 7.96738683, 7.76363707, 7.51367596],\n",
       "        [7.3479983 , 7.731912  , 7.7232532 , 7.10795182, 7.36996715],\n",
       "        [7.81206588, 7.36200877, 7.70241601, 7.75276322, 7.03861964]],\n",
       "\n",
       "       [[7.27046967, 7.76969309, 7.96738683, 7.76363707, 7.51367596],\n",
       "        [7.3479983 , 7.731912  , 7.7232532 , 7.10795182, 7.36996715],\n",
       "        [7.81206588, 7.36200877, 7.70241601, 7.75276322, 7.03861964]],\n",
       "\n",
       "       [[0.27046967, 0.76969309, 0.96738683, 0.76363707, 0.51367596],\n",
       "        [0.3479983 , 0.731912  , 0.7232532 , 0.10795182, 0.36996715],\n",
       "        [0.81206588, 0.36200877, 0.70241601, 0.75276322, 0.03861964]],\n",
       "\n",
       "       [[0.27046967, 0.76969309, 0.96738683, 0.76363707, 0.51367596],\n",
       "        [0.3479983 , 0.731912  , 0.7232532 , 0.10795182, 0.36996715],\n",
       "        [0.81206588, 0.36200877, 0.70241601, 0.75276322, 0.03861964]],\n",
       "\n",
       "       [[8.27046967, 8.76969309, 8.96738683, 8.76363707, 8.51367596],\n",
       "        [8.3479983 , 8.731912  , 8.7232532 , 8.10795182, 8.36996715],\n",
       "        [8.81206588, 8.36200877, 8.70241601, 8.75276322, 8.03861964]],\n",
       "\n",
       "       [[8.27046967, 8.76969309, 8.96738683, 8.76363707, 8.51367596],\n",
       "        [8.3479983 , 8.731912  , 8.7232532 , 8.10795182, 8.36996715],\n",
       "        [8.81206588, 8.36200877, 8.70241601, 8.75276322, 8.03861964]],\n",
       "\n",
       "       [[8.27046967, 8.76969309, 8.96738683, 8.76363707, 8.51367596],\n",
       "        [8.3479983 , 8.731912  , 8.7232532 , 8.10795182, 8.36996715],\n",
       "        [8.81206588, 8.36200877, 8.70241601, 8.75276322, 8.03861964]]])"
      ]
     },
     "execution_count": 65,
     "metadata": {},
     "output_type": "execute_result"
    }
   ],
   "source": [
    "z"
   ]
  },
  {
   "cell_type": "code",
   "execution_count": 66,
   "id": "9dcba0af",
   "metadata": {},
   "outputs": [
    {
     "data": {
      "text/plain": [
       "(8, 3, 5)"
      ]
     },
     "execution_count": 66,
     "metadata": {},
     "output_type": "execute_result"
    }
   ],
   "source": [
    "z.shape"
   ]
  },
  {
   "cell_type": "code",
   "execution_count": 67,
   "id": "f3436a7e",
   "metadata": {},
   "outputs": [],
   "source": [
    "z = x[..., np.newaxis] + y[np.newaxis, np.newaxis, :]"
   ]
  },
  {
   "cell_type": "code",
   "execution_count": 68,
   "id": "1d76c1b0",
   "metadata": {},
   "outputs": [
    {
     "data": {
      "text/plain": [
       "array([[[5.27046967, 7.27046967, 7.27046967, 0.27046967, 0.27046967,\n",
       "         8.27046967, 8.27046967, 8.27046967],\n",
       "        [5.76969309, 7.76969309, 7.76969309, 0.76969309, 0.76969309,\n",
       "         8.76969309, 8.76969309, 8.76969309],\n",
       "        [5.96738683, 7.96738683, 7.96738683, 0.96738683, 0.96738683,\n",
       "         8.96738683, 8.96738683, 8.96738683],\n",
       "        [5.76363707, 7.76363707, 7.76363707, 0.76363707, 0.76363707,\n",
       "         8.76363707, 8.76363707, 8.76363707],\n",
       "        [5.51367596, 7.51367596, 7.51367596, 0.51367596, 0.51367596,\n",
       "         8.51367596, 8.51367596, 8.51367596]],\n",
       "\n",
       "       [[5.3479983 , 7.3479983 , 7.3479983 , 0.3479983 , 0.3479983 ,\n",
       "         8.3479983 , 8.3479983 , 8.3479983 ],\n",
       "        [5.731912  , 7.731912  , 7.731912  , 0.731912  , 0.731912  ,\n",
       "         8.731912  , 8.731912  , 8.731912  ],\n",
       "        [5.7232532 , 7.7232532 , 7.7232532 , 0.7232532 , 0.7232532 ,\n",
       "         8.7232532 , 8.7232532 , 8.7232532 ],\n",
       "        [5.10795182, 7.10795182, 7.10795182, 0.10795182, 0.10795182,\n",
       "         8.10795182, 8.10795182, 8.10795182],\n",
       "        [5.36996715, 7.36996715, 7.36996715, 0.36996715, 0.36996715,\n",
       "         8.36996715, 8.36996715, 8.36996715]],\n",
       "\n",
       "       [[5.81206588, 7.81206588, 7.81206588, 0.81206588, 0.81206588,\n",
       "         8.81206588, 8.81206588, 8.81206588],\n",
       "        [5.36200877, 7.36200877, 7.36200877, 0.36200877, 0.36200877,\n",
       "         8.36200877, 8.36200877, 8.36200877],\n",
       "        [5.70241601, 7.70241601, 7.70241601, 0.70241601, 0.70241601,\n",
       "         8.70241601, 8.70241601, 8.70241601],\n",
       "        [5.75276322, 7.75276322, 7.75276322, 0.75276322, 0.75276322,\n",
       "         8.75276322, 8.75276322, 8.75276322],\n",
       "        [5.03861964, 7.03861964, 7.03861964, 0.03861964, 0.03861964,\n",
       "         8.03861964, 8.03861964, 8.03861964]]])"
      ]
     },
     "execution_count": 68,
     "metadata": {},
     "output_type": "execute_result"
    }
   ],
   "source": [
    "z"
   ]
  },
  {
   "cell_type": "markdown",
   "id": "ba992035",
   "metadata": {},
   "source": [
    "## Exercise: explicit broadcasting and stride tricks\n"
   ]
  },
  {
   "cell_type": "markdown",
   "id": "3a202a0c",
   "metadata": {},
   "source": [
    "* Now, use np.broadcast_arrays to xbroad and ybroad that are the same shape as z (so that a simple element-wise addition will give z). Then use print_info on xbroad and ybroad. Notice anything weird?"
   ]
  },
  {
   "cell_type": "code",
   "execution_count": 69,
   "id": "1705ae3a",
   "metadata": {},
   "outputs": [
    {
     "data": {
      "text/plain": [
       "array([[1., 1., 1., 1., 1.],\n",
       "       [1., 1., 1., 1., 1.],\n",
       "       [1., 1., 1., 1., 1.],\n",
       "       [1., 1., 1., 1., 1.],\n",
       "       [1., 1., 1., 1., 1.]])"
      ]
     },
     "execution_count": 69,
     "metadata": {},
     "output_type": "execute_result"
    }
   ],
   "source": [
    "a = np.zeros((5, 5))\n",
    "b = np.ones((5, 5))\n",
    "a + b"
   ]
  },
  {
   "cell_type": "code",
   "execution_count": 70,
   "id": "04cf3b8a",
   "metadata": {},
   "outputs": [],
   "source": [
    "xbroad, ybroad = np.broadcast_arrays(x[..., np.newaxis], y)"
   ]
  },
  {
   "cell_type": "code",
   "execution_count": 71,
   "id": "97e5b1f1",
   "metadata": {},
   "outputs": [
    {
     "data": {
      "text/plain": [
       "array([[[0.27046967, 0.27046967, 0.27046967, 0.27046967, 0.27046967,\n",
       "         0.27046967, 0.27046967, 0.27046967],\n",
       "        [0.76969309, 0.76969309, 0.76969309, 0.76969309, 0.76969309,\n",
       "         0.76969309, 0.76969309, 0.76969309],\n",
       "        [0.96738683, 0.96738683, 0.96738683, 0.96738683, 0.96738683,\n",
       "         0.96738683, 0.96738683, 0.96738683],\n",
       "        [0.76363707, 0.76363707, 0.76363707, 0.76363707, 0.76363707,\n",
       "         0.76363707, 0.76363707, 0.76363707],\n",
       "        [0.51367596, 0.51367596, 0.51367596, 0.51367596, 0.51367596,\n",
       "         0.51367596, 0.51367596, 0.51367596]],\n",
       "\n",
       "       [[0.3479983 , 0.3479983 , 0.3479983 , 0.3479983 , 0.3479983 ,\n",
       "         0.3479983 , 0.3479983 , 0.3479983 ],\n",
       "        [0.731912  , 0.731912  , 0.731912  , 0.731912  , 0.731912  ,\n",
       "         0.731912  , 0.731912  , 0.731912  ],\n",
       "        [0.7232532 , 0.7232532 , 0.7232532 , 0.7232532 , 0.7232532 ,\n",
       "         0.7232532 , 0.7232532 , 0.7232532 ],\n",
       "        [0.10795182, 0.10795182, 0.10795182, 0.10795182, 0.10795182,\n",
       "         0.10795182, 0.10795182, 0.10795182],\n",
       "        [0.36996715, 0.36996715, 0.36996715, 0.36996715, 0.36996715,\n",
       "         0.36996715, 0.36996715, 0.36996715]],\n",
       "\n",
       "       [[0.81206588, 0.81206588, 0.81206588, 0.81206588, 0.81206588,\n",
       "         0.81206588, 0.81206588, 0.81206588],\n",
       "        [0.36200877, 0.36200877, 0.36200877, 0.36200877, 0.36200877,\n",
       "         0.36200877, 0.36200877, 0.36200877],\n",
       "        [0.70241601, 0.70241601, 0.70241601, 0.70241601, 0.70241601,\n",
       "         0.70241601, 0.70241601, 0.70241601],\n",
       "        [0.75276322, 0.75276322, 0.75276322, 0.75276322, 0.75276322,\n",
       "         0.75276322, 0.75276322, 0.75276322],\n",
       "        [0.03861964, 0.03861964, 0.03861964, 0.03861964, 0.03861964,\n",
       "         0.03861964, 0.03861964, 0.03861964]]])"
      ]
     },
     "execution_count": 71,
     "metadata": {},
     "output_type": "execute_result"
    }
   ],
   "source": [
    "xbroad"
   ]
  },
  {
   "cell_type": "code",
   "execution_count": 72,
   "id": "f1bbe34b",
   "metadata": {},
   "outputs": [
    {
     "data": {
      "text/plain": [
       "array([[[5, 7, 7, 0, 0, 8, 8, 8],\n",
       "        [5, 7, 7, 0, 0, 8, 8, 8],\n",
       "        [5, 7, 7, 0, 0, 8, 8, 8],\n",
       "        [5, 7, 7, 0, 0, 8, 8, 8],\n",
       "        [5, 7, 7, 0, 0, 8, 8, 8]],\n",
       "\n",
       "       [[5, 7, 7, 0, 0, 8, 8, 8],\n",
       "        [5, 7, 7, 0, 0, 8, 8, 8],\n",
       "        [5, 7, 7, 0, 0, 8, 8, 8],\n",
       "        [5, 7, 7, 0, 0, 8, 8, 8],\n",
       "        [5, 7, 7, 0, 0, 8, 8, 8]],\n",
       "\n",
       "       [[5, 7, 7, 0, 0, 8, 8, 8],\n",
       "        [5, 7, 7, 0, 0, 8, 8, 8],\n",
       "        [5, 7, 7, 0, 0, 8, 8, 8],\n",
       "        [5, 7, 7, 0, 0, 8, 8, 8],\n",
       "        [5, 7, 7, 0, 0, 8, 8, 8]]])"
      ]
     },
     "execution_count": 72,
     "metadata": {},
     "output_type": "execute_result"
    }
   ],
   "source": [
    "ybroad"
   ]
  },
  {
   "cell_type": "code",
   "execution_count": 74,
   "id": "041678ee",
   "metadata": {},
   "outputs": [
    {
     "name": "stdout",
     "output_type": "stream",
     "text": [
      "Number of Elements in data : 120\n",
      "Number of dimension in data : 3\n",
      "shape of data : (3, 5, 8)\n",
      "datatype of dataset : float64\n",
      "Strides : (40, 8, 0)\n",
      "Flags :   C_CONTIGUOUS : False\n",
      "  F_CONTIGUOUS : False\n",
      "  OWNDATA : False\n",
      "  WRITEABLE : True  (with WARN_ON_WRITE=True)\n",
      "  ALIGNED : True\n",
      "  WRITEBACKIFCOPY : False\n",
      "  UPDATEIFCOPY : False\n",
      "\n"
     ]
    }
   ],
   "source": [
    "data_info(xbroad)"
   ]
  },
  {
   "cell_type": "code",
   "execution_count": 76,
   "id": "3ff2274f",
   "metadata": {},
   "outputs": [
    {
     "name": "stdout",
     "output_type": "stream",
     "text": [
      "Number of Elements in data : 120\n",
      "Number of dimension in data : 3\n",
      "shape of data : (3, 5, 8)\n",
      "datatype of dataset : int32\n",
      "Strides : (0, 0, 4)\n",
      "Flags :   C_CONTIGUOUS : False\n",
      "  F_CONTIGUOUS : False\n",
      "  OWNDATA : False\n",
      "  WRITEABLE : True  (with WARN_ON_WRITE=True)\n",
      "  ALIGNED : True\n",
      "  WRITEBACKIFCOPY : False\n",
      "  UPDATEIFCOPY : False\n",
      "\n"
     ]
    }
   ],
   "source": [
    "data_info(ybroad)"
   ]
  },
  {
   "cell_type": "code",
   "execution_count": 77,
   "id": "89ecb793",
   "metadata": {},
   "outputs": [
    {
     "data": {
      "text/plain": [
       "[<matplotlib.lines.Line2D at 0x21f57086820>]"
      ]
     },
     "execution_count": 77,
     "metadata": {},
     "output_type": "execute_result"
    },
    {
     "data": {
      "image/png": "[encoded data removed]",
      "text/plain": [
       "<Figure size 640x480 with 1 Axes>"
      ]
     },
     "metadata": {},
     "output_type": "display_data"
    }
   ],
   "source": [
    "weight = np.exp(-(np.arange(-8, 9) / (8/3))**2)\n",
    "weight /= np.sum(weight)  ## ensure overall intensity of signal doesn't change\n",
    "fig, ax = plt.subplots()\n",
    "ax.plot(weight)\n"
   ]
  },
  {
   "cell_type": "markdown",
   "id": "b632f760",
   "metadata": {},
   "source": [
    "## Fancy Indexing"
   ]
  },
  {
   "cell_type": "code",
   "execution_count": 79,
   "id": "4bb0521a",
   "metadata": {},
   "outputs": [
    {
     "name": "stdout",
     "output_type": "stream",
     "text": [
      "[[0 2 0 1]\n",
      " [2 0 0 0]\n",
      " [2 2 2 0]]\n",
      "[[ 0 99  0  5]\n",
      " [99  0  0  0]\n",
      " [99 99 99  0]]\n"
     ]
    }
   ],
   "source": [
    "values = np.array([0, 5, 99])\n",
    "selector = np.random.randint(0, 3, size=(3, 4))\n",
    "print(selector)\n",
    "print(values[selector])"
   ]
  },
  {
   "cell_type": "code",
   "execution_count": 80,
   "id": "fc49d053",
   "metadata": {},
   "outputs": [
    {
     "data": {
      "text/plain": [
       "array([[ 5, 99, 99, 99,  0],\n",
       "       [ 5,  5,  5,  5,  5]])"
      ]
     },
     "execution_count": 80,
     "metadata": {},
     "output_type": "execute_result"
    }
   ],
   "source": [
    "values[np.array([[1, 2, 2, 2, 0], [1, 1, 1, 1, 1]])]\n"
   ]
  },
  {
   "cell_type": "code",
   "execution_count": 84,
   "id": "4382a962",
   "metadata": {},
   "outputs": [],
   "source": [
    "values2d = np.array([[0, 5, 99],\n",
    "                     [8, 70, 80]])"
   ]
  },
  {
   "cell_type": "code",
   "execution_count": 85,
   "id": "5d059a67",
   "metadata": {},
   "outputs": [
    {
     "data": {
      "text/plain": [
       "array([[ 0,  5, 99],\n",
       "       [ 8, 70, 80]])"
      ]
     },
     "execution_count": 85,
     "metadata": {},
     "output_type": "execute_result"
    }
   ],
   "source": [
    "values2d"
   ]
  },
  {
   "cell_type": "code",
   "execution_count": 86,
   "id": "ef232a13",
   "metadata": {},
   "outputs": [
    {
     "data": {
      "text/plain": [
       "array([ 8, 80])"
      ]
     },
     "execution_count": 86,
     "metadata": {},
     "output_type": "execute_result"
    }
   ],
   "source": [
    "values2d[np.array([1]), np.array([0, 2])]"
   ]
  },
  {
   "cell_type": "code",
   "execution_count": 87,
   "id": "3b21fd6b",
   "metadata": {},
   "outputs": [],
   "source": [
    "relabeled = values[selector]"
   ]
  },
  {
   "cell_type": "code",
   "execution_count": 89,
   "id": "13fee84c",
   "metadata": {},
   "outputs": [
    {
     "data": {
      "text/plain": [
       "array([[ 0, 99,  0,  5],\n",
       "       [99,  0,  0,  0],\n",
       "       [99, 99, 99,  0]])"
      ]
     },
     "execution_count": 89,
     "metadata": {},
     "output_type": "execute_result"
    }
   ],
   "source": [
    "relabeled"
   ]
  },
  {
   "cell_type": "code",
   "execution_count": 90,
   "id": "f8823edf",
   "metadata": {},
   "outputs": [
    {
     "data": {
      "text/plain": [
       "array([ True,  True,  True])"
      ]
     },
     "execution_count": 90,
     "metadata": {},
     "output_type": "execute_result"
    }
   ],
   "source": [
    "has_large_cols = np.any(relabeled > 10, axis=1)\n",
    "has_large_cols"
   ]
  }
 ],
 "metadata": {
  "kernelspec": {
   "display_name": "Python 3 (ipykernel)",
   "language": "python",
   "name": "python3"
  },
  "language_info": {
   "codemirror_mode": {
    "name": "ipython",
    "version": 3
   },
   "file_extension": ".py",
   "mimetype": "text/x-python",
   "name": "python",
   "nbconvert_exporter": "python",
   "pygments_lexer": "ipython3",
   "version": "3.9.13"
  }
 },
 "nbformat": 4,
 "nbformat_minor": 5
}
