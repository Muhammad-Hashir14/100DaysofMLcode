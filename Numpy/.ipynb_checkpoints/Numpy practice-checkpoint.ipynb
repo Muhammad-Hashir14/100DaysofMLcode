{
 "cells": [
  {
   "cell_type": "code",
   "execution_count": 1,
   "id": "260a34cc",
   "metadata": {},
   "outputs": [],
   "source": [
    "# importing Numpy\n",
    "import numpy as np"
   ]
  },
  {
   "cell_type": "code",
   "execution_count": 2,
   "id": "b627b149",
   "metadata": {},
   "outputs": [],
   "source": [
    "a = np.array([1,2,3,4], dtype = \"int32\")"
   ]
  },
  {
   "cell_type": "code",
   "execution_count": 3,
   "id": "2cb96315",
   "metadata": {},
   "outputs": [],
   "source": [
    "b = np.array([[1.0,4.0,4.0,2.0],[3.0,1.0,8.0,5.0]])"
   ]
  },
  {
   "cell_type": "code",
   "execution_count": 4,
   "id": "487f8b2d",
   "metadata": {},
   "outputs": [
    {
     "name": "stdout",
     "output_type": "stream",
     "text": [
      "(4,)\n",
      "1\n"
     ]
    }
   ],
   "source": [
    "print(a.shape)\n",
    "print(a.ndim)"
   ]
  },
  {
   "cell_type": "code",
   "execution_count": 5,
   "id": "02bfc455",
   "metadata": {},
   "outputs": [
    {
     "name": "stdout",
     "output_type": "stream",
     "text": [
      "(2, 4)\n",
      "2\n"
     ]
    }
   ],
   "source": [
    "print(b.shape)\n",
    "print(b.ndim)"
   ]
  },
  {
   "cell_type": "code",
   "execution_count": 7,
   "id": "32abb79d",
   "metadata": {},
   "outputs": [
    {
     "name": "stdout",
     "output_type": "stream",
     "text": [
      "int32\n",
      "float64\n"
     ]
    }
   ],
   "source": [
    "print(a.dtype)\n",
    "print(b.dtype)"
   ]
  },
  {
   "cell_type": "code",
   "execution_count": 9,
   "id": "c5c197a8",
   "metadata": {},
   "outputs": [
    {
     "name": "stdout",
     "output_type": "stream",
     "text": [
      "8\n",
      "8\n"
     ]
    }
   ],
   "source": [
    "print(b.itemsize)\n",
    "print(b.size)"
   ]
  },
  {
   "cell_type": "code",
   "execution_count": 11,
   "id": "3851b8b5",
   "metadata": {},
   "outputs": [],
   "source": [
    "arr = np.array([[1,2,3,4,5,6,7,8],[9,10,11,12,13,14,15,16]])"
   ]
  },
  {
   "cell_type": "code",
   "execution_count": 12,
   "id": "a628afcf",
   "metadata": {},
   "outputs": [
    {
     "data": {
      "text/plain": [
       "array([[ 1,  2,  3,  4,  5,  6,  7,  8],\n",
       "       [ 9, 10, 11, 12, 13, 14, 15, 16]])"
      ]
     },
     "execution_count": 12,
     "metadata": {},
     "output_type": "execute_result"
    }
   ],
   "source": [
    "arr"
   ]
  },
  {
   "cell_type": "code",
   "execution_count": 13,
   "id": "3f665c22",
   "metadata": {},
   "outputs": [
    {
     "data": {
      "text/plain": [
       "13"
      ]
     },
     "execution_count": 13,
     "metadata": {},
     "output_type": "execute_result"
    }
   ],
   "source": [
    "arr[1,4]"
   ]
  },
  {
   "cell_type": "code",
   "execution_count": 14,
   "id": "d23225d0",
   "metadata": {},
   "outputs": [
    {
     "data": {
      "text/plain": [
       "array([1, 2, 3, 4, 5, 6, 7, 8])"
      ]
     },
     "execution_count": 14,
     "metadata": {},
     "output_type": "execute_result"
    }
   ],
   "source": [
    "arr[0,:]"
   ]
  },
  {
   "cell_type": "code",
   "execution_count": 16,
   "id": "151527a1",
   "metadata": {},
   "outputs": [
    {
     "data": {
      "text/plain": [
       "array([ 4, 12])"
      ]
     },
     "execution_count": 16,
     "metadata": {},
     "output_type": "execute_result"
    }
   ],
   "source": [
    "arr[:,3]"
   ]
  },
  {
   "cell_type": "code",
   "execution_count": 18,
   "id": "592d08aa",
   "metadata": {},
   "outputs": [
    {
     "data": {
      "text/plain": [
       "array([[ 1,  2,  3,  4,  5,  6,  7,  8],\n",
       "       [ 9, 10, 11, 12, 25, 14, 15, 16]])"
      ]
     },
     "execution_count": 18,
     "metadata": {},
     "output_type": "execute_result"
    }
   ],
   "source": [
    "arr[1,4] = 25\n",
    "arr"
   ]
  },
  {
   "cell_type": "code",
   "execution_count": 19,
   "id": "6cb53d1b",
   "metadata": {},
   "outputs": [],
   "source": [
    "arr[:,2] = [11,3]"
   ]
  },
  {
   "cell_type": "code",
   "execution_count": 20,
   "id": "16fb542e",
   "metadata": {},
   "outputs": [
    {
     "data": {
      "text/plain": [
       "array([[ 1,  2, 11,  4,  5,  6,  7,  8],\n",
       "       [ 9, 10,  3, 12, 25, 14, 15, 16]])"
      ]
     },
     "execution_count": 20,
     "metadata": {},
     "output_type": "execute_result"
    }
   ],
   "source": [
    "arr"
   ]
  },
  {
   "cell_type": "code",
   "execution_count": 21,
   "id": "36876d6f",
   "metadata": {},
   "outputs": [],
   "source": [
    "arr3 = np.array([[[1,2],[3,4]],[[5,6],[7,8]]])"
   ]
  },
  {
   "cell_type": "code",
   "execution_count": 22,
   "id": "3a46b29f",
   "metadata": {},
   "outputs": [
    {
     "data": {
      "text/plain": [
       "array([[[1, 2],\n",
       "        [3, 4]],\n",
       "\n",
       "       [[5, 6],\n",
       "        [7, 8]]])"
      ]
     },
     "execution_count": 22,
     "metadata": {},
     "output_type": "execute_result"
    }
   ],
   "source": [
    "arr3"
   ]
  },
  {
   "cell_type": "code",
   "execution_count": 23,
   "id": "8a4e5389",
   "metadata": {},
   "outputs": [
    {
     "data": {
      "text/plain": [
       "5"
      ]
     },
     "execution_count": 23,
     "metadata": {},
     "output_type": "execute_result"
    }
   ],
   "source": [
    "arr3[1,0,0]"
   ]
  },
  {
   "cell_type": "code",
   "execution_count": 25,
   "id": "f6c76775",
   "metadata": {},
   "outputs": [
    {
     "data": {
      "text/plain": [
       "array([[0, 0, 0],\n",
       "       [0, 0, 0]])"
      ]
     },
     "execution_count": 25,
     "metadata": {},
     "output_type": "execute_result"
    }
   ],
   "source": [
    "np.zeros((2,3),dtype = 'int32')"
   ]
  },
  {
   "cell_type": "code",
   "execution_count": 26,
   "id": "9b7880eb",
   "metadata": {},
   "outputs": [
    {
     "data": {
      "text/plain": [
       "array([[1, 1, 1, 1, 1],\n",
       "       [1, 1, 1, 1, 1],\n",
       "       [1, 1, 1, 1, 1]])"
      ]
     },
     "execution_count": 26,
     "metadata": {},
     "output_type": "execute_result"
    }
   ],
   "source": [
    "np.ones((3,5),dtype = 'int32')"
   ]
  },
  {
   "cell_type": "code",
   "execution_count": 27,
   "id": "7f0a2597",
   "metadata": {},
   "outputs": [
    {
     "data": {
      "text/plain": [
       "array([[24, 24, 24, 24, 24, 24, 24, 24, 24, 24],\n",
       "       [24, 24, 24, 24, 24, 24, 24, 24, 24, 24],\n",
       "       [24, 24, 24, 24, 24, 24, 24, 24, 24, 24],\n",
       "       [24, 24, 24, 24, 24, 24, 24, 24, 24, 24],\n",
       "       [24, 24, 24, 24, 24, 24, 24, 24, 24, 24],\n",
       "       [24, 24, 24, 24, 24, 24, 24, 24, 24, 24],\n",
       "       [24, 24, 24, 24, 24, 24, 24, 24, 24, 24],\n",
       "       [24, 24, 24, 24, 24, 24, 24, 24, 24, 24],\n",
       "       [24, 24, 24, 24, 24, 24, 24, 24, 24, 24],\n",
       "       [24, 24, 24, 24, 24, 24, 24, 24, 24, 24]])"
      ]
     },
     "execution_count": 27,
     "metadata": {},
     "output_type": "execute_result"
    }
   ],
   "source": [
    "np.full((10,10),24)"
   ]
  },
  {
   "cell_type": "code",
   "execution_count": 28,
   "id": "78c87d0a",
   "metadata": {},
   "outputs": [
    {
     "data": {
      "text/plain": [
       "array([[0.78565606, 0.29294526, 0.43832214, 0.03341548],\n",
       "       [0.0576278 , 0.747593  , 0.53458118, 0.97671708]])"
      ]
     },
     "execution_count": 28,
     "metadata": {},
     "output_type": "execute_result"
    }
   ],
   "source": [
    "np.random.rand(2,4)"
   ]
  },
  {
   "cell_type": "code",
   "execution_count": 32,
   "id": "d1e07681",
   "metadata": {},
   "outputs": [
    {
     "data": {
      "text/plain": [
       "array([[7, 3, 8, 3],\n",
       "       [0, 5, 1, 8],\n",
       "       [7, 7, 3, 7],\n",
       "       [7, 0, 6, 9]])"
      ]
     },
     "execution_count": 32,
     "metadata": {},
     "output_type": "execute_result"
    }
   ],
   "source": [
    "np.random.randint(0,10,(4,4))"
   ]
  },
  {
   "cell_type": "code",
   "execution_count": 34,
   "id": "74ff69b3",
   "metadata": {},
   "outputs": [
    {
     "data": {
      "text/plain": [
       "array([[1., 0., 0., 0.],\n",
       "       [0., 1., 0., 0.],\n",
       "       [0., 0., 1., 0.],\n",
       "       [0., 0., 0., 1.]])"
      ]
     },
     "execution_count": 34,
     "metadata": {},
     "output_type": "execute_result"
    }
   ],
   "source": [
    "np.identity(4)"
   ]
  },
  {
   "cell_type": "code",
   "execution_count": 38,
   "id": "98af8ea8",
   "metadata": {},
   "outputs": [
    {
     "data": {
      "text/plain": [
       "array([[1, 2, 4, 5],\n",
       "       [1, 2, 4, 5],\n",
       "       [1, 2, 4, 5],\n",
       "       [1, 2, 4, 5]])"
      ]
     },
     "execution_count": 38,
     "metadata": {},
     "output_type": "execute_result"
    }
   ],
   "source": [
    "arr = np.array([[1,2,4,5]])\n",
    "np.repeat(arr,4,axis = 0)"
   ]
  },
  {
   "cell_type": "code",
   "execution_count": 48,
   "id": "fce9339f",
   "metadata": {},
   "outputs": [
    {
     "name": "stdout",
     "output_type": "stream",
     "text": [
      "[[1. 1. 1. 1. 1.]\n",
      " [1. 1. 1. 1. 1.]\n",
      " [1. 1. 1. 1. 1.]\n",
      " [1. 1. 1. 1. 1.]\n",
      " [1. 1. 1. 1. 1.]]\n",
      "\n",
      "\n",
      "[[0. 0. 0.]\n",
      " [0. 9. 0.]\n",
      " [0. 0. 0.]]\n",
      "\n",
      "\n",
      "[[1. 1. 1. 1. 1.]\n",
      " [1. 0. 0. 0. 1.]\n",
      " [1. 0. 9. 0. 1.]\n",
      " [1. 0. 0. 0. 1.]\n",
      " [1. 1. 1. 1. 1.]]\n"
     ]
    }
   ],
   "source": [
    "a = np.ones((5,5))\n",
    "print(a)\n",
    "b = np.zeros((3,3))\n",
    "print(\"\\n\")\n",
    "b[1,1] = 9\n",
    "print(b)\n",
    "print(\"\\n\")\n",
    "a[1:4,1:4] = b\n",
    "print(a)"
   ]
  },
  {
   "cell_type": "code",
   "execution_count": 52,
   "id": "d8465790",
   "metadata": {},
   "outputs": [
    {
     "data": {
      "text/plain": [
       "array([1, 2, 3])"
      ]
     },
     "metadata": {},
     "output_type": "display_data"
    },
    {
     "data": {
      "text/plain": [
       "array([ 1,  2, 10])"
      ]
     },
     "metadata": {},
     "output_type": "display_data"
    }
   ],
   "source": [
    "a = np.array([1,2,3])\n",
    "b = a.copy()\n",
    "b[2] = 10\n",
    "display(a)\n",
    "display(b)"
   ]
  },
  {
   "cell_type": "code",
   "execution_count": 54,
   "id": "0cf97121",
   "metadata": {},
   "outputs": [
    {
     "name": "stdout",
     "output_type": "stream",
     "text": [
      "[4 5 6 7]\n",
      "[0 1 2 3]\n",
      "[1.  1.5 2.  2.5]\n",
      "[ 4  6  8 10]\n",
      "[ 4  9 16 25]\n"
     ]
    }
   ],
   "source": [
    "a = np.array([2,3,4,5])\n",
    "print(a+2)\n",
    "print(a-2)\n",
    "print(a/2)\n",
    "print(a*2)\n",
    "print(a**2)"
   ]
  },
  {
   "cell_type": "code",
   "execution_count": 55,
   "id": "0407b759",
   "metadata": {},
   "outputs": [
    {
     "name": "stdout",
     "output_type": "stream",
     "text": [
      "[3 3 5 5]\n"
     ]
    }
   ],
   "source": [
    "b = np.array([1,0,1,0])\n",
    "print(a+b)"
   ]
  },
  {
   "cell_type": "code",
   "execution_count": 56,
   "id": "d7bae838",
   "metadata": {},
   "outputs": [
    {
     "name": "stdout",
     "output_type": "stream",
     "text": [
      "[-0.41614684 -0.9899925  -0.65364362  0.28366219]\n"
     ]
    }
   ],
   "source": [
    "print(np.cos(a))"
   ]
  },
  {
   "cell_type": "code",
   "execution_count": 57,
   "id": "e73377f9",
   "metadata": {},
   "outputs": [
    {
     "data": {
      "text/plain": [
       "array([[1, 2, 3],\n",
       "       [4, 5, 6]])"
      ]
     },
     "execution_count": 57,
     "metadata": {},
     "output_type": "execute_result"
    }
   ],
   "source": [
    "stats = np.array([[1,2,3],[4,5,6]])\n",
    "stats"
   ]
  },
  {
   "cell_type": "code",
   "execution_count": 58,
   "id": "4b1cc1b5",
   "metadata": {},
   "outputs": [
    {
     "name": "stdout",
     "output_type": "stream",
     "text": [
      "1\n",
      "6\n"
     ]
    }
   ],
   "source": [
    "print(np.min(stats))\n",
    "print(np.max(stats))"
   ]
  },
  {
   "cell_type": "code",
   "execution_count": 59,
   "id": "1a0ed4f5",
   "metadata": {},
   "outputs": [
    {
     "name": "stdout",
     "output_type": "stream",
     "text": [
      "[5 7 9]\n"
     ]
    }
   ],
   "source": [
    "print(np.sum(stats, axis = 0))"
   ]
  },
  {
   "cell_type": "code",
   "execution_count": 63,
   "id": "523f6026",
   "metadata": {},
   "outputs": [
    {
     "name": "stdout",
     "output_type": "stream",
     "text": [
      "[[2 4 5 6]\n",
      " [2 5 6 5]]\n",
      "[[2 4 5 6]\n",
      " [2 5 6 5]]\n"
     ]
    }
   ],
   "source": [
    "arr = np.array([[2,4,5,6],[2,5,6,5]])\n",
    "print(arr)\n",
    "print(arr.reshape(2,4))"
   ]
  },
  {
   "cell_type": "code",
   "execution_count": 69,
   "id": "b6d07f8c",
   "metadata": {},
   "outputs": [
    {
     "data": {
      "text/plain": [
       "array([[1, 2, 3, 4],\n",
       "       [5, 6, 7, 8],\n",
       "       [1, 2, 3, 4],\n",
       "       [5, 6, 7, 8]])"
      ]
     },
     "execution_count": 69,
     "metadata": {},
     "output_type": "execute_result"
    }
   ],
   "source": [
    "a = np.array([1,2,3,4])\n",
    "b = np.array([5,6,7,8])\n",
    "np.vstack([a,b,a,b])"
   ]
  },
  {
   "cell_type": "code",
   "execution_count": 70,
   "id": "c8c33db2",
   "metadata": {},
   "outputs": [
    {
     "data": {
      "text/plain": [
       "array([1, 2, 3, 4, 5, 6, 7, 8, 1, 2, 3, 4, 5, 6, 7, 8])"
      ]
     },
     "execution_count": 70,
     "metadata": {},
     "output_type": "execute_result"
    }
   ],
   "source": [
    "a = np.array([1,2,3,4])\n",
    "b = np.array([5,6,7,8])\n",
    "np.hstack([a,b,a,b])"
   ]
  },
  {
   "cell_type": "code",
   "execution_count": 86,
   "id": "1f43288a",
   "metadata": {},
   "outputs": [
    {
     "name": "stdout",
     "output_type": "stream",
     "text": [
      "[[  1  13  21  11 196  75   4   3  34   6   7   8   0   1   2   3   4   5]\n",
      " [  3  42  12  33 766  75   4  55   6   4   3   4   5   6   7   0  11  12]\n",
      " [  1  22  33  11 999  11   2   1  78   0   1   2   9   8   7   1  76  88]]\n"
     ]
    },
    {
     "data": {
      "text/plain": [
       "array([[ True,  True,  True,  True,  True, False,  True,  True,  True,\n",
       "         True,  True,  True,  True,  True,  True,  True,  True,  True],\n",
       "       [ True,  True,  True,  True,  True, False,  True, False,  True,\n",
       "         True,  True,  True,  True,  True,  True,  True,  True,  True],\n",
       "       [ True,  True,  True,  True,  True,  True,  True,  True, False,\n",
       "         True,  True,  True,  True,  True,  True,  True, False, False]])"
      ]
     },
     "execution_count": 86,
     "metadata": {},
     "output_type": "execute_result"
    }
   ],
   "source": [
    "data = np.genfromtxt('data.txt',delimiter=',')\n",
    "data = data.astype('int32')\n",
    "print(data)\n",
    "~((data > 50) & (data < 90))"
   ]
  },
  {
   "cell_type": "code",
   "execution_count": null,
   "id": "44261509",
   "metadata": {},
   "outputs": [],
   "source": []
  }
 ],
 "metadata": {
  "kernelspec": {
   "display_name": "Python 3 (ipykernel)",
   "language": "python",
   "name": "python3"
  },
  "language_info": {
   "codemirror_mode": {
    "name": "ipython",
    "version": 3
   },
   "file_extension": ".py",
   "mimetype": "text/x-python",
   "name": "python",
   "nbconvert_exporter": "python",
   "pygments_lexer": "ipython3",
   "version": "3.9.13"
  }
 },
 "nbformat": 4,
 "nbformat_minor": 5
}
